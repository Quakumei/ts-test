{
 "cells": [
  {
   "cell_type": "code",
   "execution_count": 2,
   "metadata": {},
   "outputs": [
    {
     "name": "stdout",
     "output_type": "stream",
     "text": [
      "INFO: Pandarallel will run on 10 workers.\n",
      "INFO: Pandarallel will use Memory file system to transfer data between the main process and workers.\n"
     ]
    }
   ],
   "source": [
    "import pandas as pd\n",
    "from tqdm import tqdm\n",
    "from pandarallel import pandarallel\n",
    "import matplotlib.pyplot as plt\n",
    "\n",
    "pandarallel.initialize(progress_bar=True)\n",
    "\n",
    "DATA_ROOT = '../data'"
   ]
  },
  {
   "cell_type": "code",
   "execution_count": 11,
   "metadata": {},
   "outputs": [
    {
     "data": {
      "text/plain": [
       "(75989258, 4)"
      ]
     },
     "execution_count": 11,
     "metadata": {},
     "output_type": "execute_result"
    }
   ],
   "source": [
    "# Read in the data\n",
    "df_db = pd.read_csv(f'../data/raw/test/Тестовый датасет ЦБ/Тестовый датасет 2 часть/DS_test6(2020-06--2022-08-01).csv', engine=\"pyarrow\", delimiter='\\t')\n",
    "df_db.shape"
   ]
  },
  {
   "cell_type": "markdown",
   "metadata": {},
   "source": [
    "Чтобы охвтить общую информацию о продуктах и их тенденциях, мы предположили, что взяв случайные, мы получим примерно равномерный срез по категориям. Поэтому мы брали k случайных продуктов для каждого предсказания ИПЦ.\n",
    "\n",
    "Чтобы еще сильнее улучшить предсказания модели, мы делали множество предсказаний ИПЦ с разными k, и усредняли их значение. В итоге нам получилось уменьшить ошибку (MSE, MAPE) модели вдвое по сравнению с первоначальным вариантом.\n"
   ]
  },
  {
   "cell_type": "code",
   "execution_count": 12,
   "metadata": {},
   "outputs": [
    {
     "name": "stdout",
     "output_type": "stream",
     "text": [
      "<class 'pandas.core.frame.DataFrame'>\n",
      "RangeIndex: 75989258 entries, 0 to 75989257\n",
      "Data columns (total 4 columns):\n",
      " #   Column        Dtype         \n",
      "---  ------        -----         \n",
      " 0   WebPriceId    int64         \n",
      " 1   DateObserve   datetime64[ns]\n",
      " 2   StockStatus   object        \n",
      " 3   CurrentPrice  float64       \n",
      "dtypes: datetime64[ns](1), float64(1), int64(1), object(1)\n",
      "memory usage: 2.3+ GB\n"
     ]
    }
   ],
   "source": [
    "df_db.info()"
   ]
  },
  {
   "cell_type": "code",
   "execution_count": 18,
   "metadata": {},
   "outputs": [],
   "source": [
    "DATE_COLUMN = \"DateObserve\"\n",
    "PRICE_COLUMN = \"CurrentPrice\"\n",
    "ID_COLUMN = \"WebPriceId\"\n",
    "STOCK_STATUS_COLUMN = \"StockStatus\""
   ]
  },
  {
   "cell_type": "code",
   "execution_count": 19,
   "metadata": {},
   "outputs": [],
   "source": [
    "# Remove webpriceids with less than 10 observations\n",
    "# df_db = df_db.groupby(ID_COLUMN).filter(lambda x: len(x) > 10)"
   ]
  },
  {
   "cell_type": "code",
   "execution_count": 20,
   "metadata": {},
   "outputs": [],
   "source": [
    "def select_data_in_between(df: pd.DataFrame, date_start: str = None, date_end: str = None) -> pd.DataFrame:\n",
    "    \"\"\"\n",
    "    Select data between two dates\n",
    "    \"\"\"\n",
    "    if date_start is None:\n",
    "        date_start = df[DATE_COLUMN].min()\n",
    "    if date_end is None:\n",
    "        date_end = df[DATE_COLUMN].max()\n",
    "    return df[(df[DATE_COLUMN] >= date_start) & (df[DATE_COLUMN] <= date_end)]"
   ]
  },
  {
   "cell_type": "code",
   "execution_count": 21,
   "metadata": {},
   "outputs": [],
   "source": [
    "def find_nearest_to_date_in_series(series: pd.Series, date: str) -> pd.Series:\n",
    "    \"\"\"\n",
    "    Find nearest date in a series\n",
    "    \"\"\"\n",
    "    return series.iloc[(series - pd.to_datetime(date)).abs().argsort()[:1]]"
   ]
  },
  {
   "cell_type": "code",
   "execution_count": 22,
   "metadata": {},
   "outputs": [],
   "source": [
    "# df_db = select_data_in_between(df_db, date_start=\"2022-06-01\")"
   ]
  },
  {
   "cell_type": "code",
   "execution_count": 23,
   "metadata": {},
   "outputs": [
    {
     "data": {
      "text/plain": [
       "(75989258, 4)"
      ]
     },
     "execution_count": 23,
     "metadata": {},
     "output_type": "execute_result"
    }
   ],
   "source": [
    "df_db.shape"
   ]
  },
  {
   "cell_type": "code",
   "execution_count": 24,
   "metadata": {},
   "outputs": [],
   "source": [
    "# Remove webpriceids with less than 10 observations\n",
    "df_db = df_db[:].groupby(ID_COLUMN).filter(lambda x: len(x) >= 5)"
   ]
  },
  {
   "cell_type": "code",
   "execution_count": 25,
   "metadata": {},
   "outputs": [
    {
     "data": {
      "text/plain": [
       "(57493695, 4)"
      ]
     },
     "execution_count": 25,
     "metadata": {},
     "output_type": "execute_result"
    }
   ],
   "source": [
    "df_db.shape"
   ]
  },
  {
   "cell_type": "code",
   "execution_count": 249,
   "metadata": {},
   "outputs": [],
   "source": [
    "import numpy as np"
   ]
  },
  {
   "cell_type": "code",
   "execution_count": 31,
   "metadata": {},
   "outputs": [
    {
     "ename": "NameError",
     "evalue": "name 'np' is not defined",
     "output_type": "error",
     "traceback": [
      "\u001b[0;31m---------------------------------------------------------------------------\u001b[0m",
      "\u001b[0;31mNameError\u001b[0m                                 Traceback (most recent call last)",
      "Cell \u001b[0;32mIn [31], line 83\u001b[0m\n\u001b[1;32m     80\u001b[0m     \u001b[38;5;28;01mexcept\u001b[39;00m:\n\u001b[1;32m     81\u001b[0m         \u001b[38;5;28;01mreturn\u001b[39;00m \u001b[38;5;241m0\u001b[39m, \u001b[38;5;241m-\u001b[39m\u001b[38;5;241m1\u001b[39m\n\u001b[0;32m---> 83\u001b[0m \u001b[43mbaseline_prediction\u001b[49m\u001b[43m(\u001b[49m\u001b[43mdf_db\u001b[49m\u001b[43m,\u001b[49m\u001b[43m \u001b[49m\u001b[38;5;124;43m'\u001b[39;49m\u001b[38;5;124;43m2022-07-21\u001b[39;49m\u001b[38;5;124;43m'\u001b[39;49m\u001b[43m,\u001b[49m\u001b[43m \u001b[49m\u001b[43mk\u001b[49m\u001b[38;5;241;43m=\u001b[39;49m\u001b[38;5;241;43m3000\u001b[39;49m\u001b[43m)\u001b[49m\n",
      "Cell \u001b[0;32mIn [31], line 34\u001b[0m, in \u001b[0;36mbaseline_prediction\u001b[0;34m(df, date, k, ids)\u001b[0m\n\u001b[1;32m     30\u001b[0m     ids \u001b[38;5;241m=\u001b[39m df_month\u001b[38;5;241m.\u001b[39mgroupby(ID_COLUMN)\u001b[38;5;241m.\u001b[39mfilter(\u001b[38;5;28;01mlambda\u001b[39;00m x: \u001b[38;5;28mlen\u001b[39m(x) \u001b[38;5;241m>\u001b[39m \u001b[38;5;241m3\u001b[39m)[ID_COLUMN]\u001b[38;5;241m.\u001b[39munique()\n\u001b[1;32m     32\u001b[0m \u001b[38;5;66;03m# Shuffle ids\u001b[39;00m\n\u001b[1;32m     33\u001b[0m \u001b[38;5;66;03m# Random choice of k*2 ids\u001b[39;00m\n\u001b[0;32m---> 34\u001b[0m ids \u001b[38;5;241m=\u001b[39m \u001b[43mnp\u001b[49m\u001b[38;5;241m.\u001b[39mrandom\u001b[38;5;241m.\u001b[39mchoice(ids, k, replace\u001b[38;5;241m=\u001b[39m\u001b[38;5;28;01mFalse\u001b[39;00m)\n\u001b[1;32m     38\u001b[0m ipc_frame \u001b[38;5;241m=\u001b[39m pd\u001b[38;5;241m.\u001b[39mDataFrame()\n\u001b[1;32m     39\u001b[0m \u001b[38;5;66;03m# Для каждого товара в промежутке посчитать ИПЦ\u001b[39;00m\n",
      "\u001b[0;31mNameError\u001b[0m: name 'np' is not defined"
     ]
    }
   ],
   "source": [
    "# Реализация бейзлайна\n",
    "def baseline_prediction(df: pd.DataFrame, date: str, k: int = 5000, ids: list = None) -> float:\n",
    "    \"\"\"\n",
    "        Предсказание ИПЦ для конца месяца, указанного в date,\n",
    "        на основании данных до date. Среднее по ИПЦ всех отдельных\n",
    "        товаров, рассчитывваемое по формуле\n",
    "\n",
    "        ИПЦ = Цена в date / Цена в date - 1, но месяц назад\n",
    "\n",
    "    Arguments:\n",
    "        df: pd.DataFrame - все данные\n",
    "        date: str - имеет формат \"ГГГГ-ММ-ДД\"\n",
    "        k: int - лимит на количество товаров, по которым считается среднее\n",
    "\n",
    "    Return:\n",
    "        IPC: float - предсказанная ИПЦ за месяц\n",
    "\n",
    "    \"\"\"\n",
    "\n",
    "\n",
    "    # Разбить date на текущий месяц, день и год\n",
    "    year, month, day = date.split('-')\n",
    "\n",
    "    # Выбрать данные от месяца назад до date, использовать pd.Timedelta\n",
    "    df_month = select_data_in_between(df, date_start=pd.to_datetime(date) - pd.Timedelta(days=40), date_end=date)\n",
    "    df_month = df_month[df_month[STOCK_STATUS_COLUMN] == \"InStock\"]\n",
    "\n",
    "    # Отсеить WebPriceId, у которых меньше 3 записей за этот период\n",
    "    if ids is None:\n",
    "        ids = df_month.groupby(ID_COLUMN).filter(lambda x: len(x) > 3)[ID_COLUMN].unique()\n",
    "\n",
    "    # Shuffle ids\n",
    "    # Random choice of k*2 ids\n",
    "    ids = np.random.choice(ids, k, replace=False)\n",
    "\n",
    "\n",
    "\n",
    "    ipc_frame = pd.DataFrame()\n",
    "    # Для каждого товара в промежутке посчитать ИПЦ\n",
    "    total_drops = 0\n",
    "    i = 0\n",
    "    for web_price_id in tqdm(ids, total=min(len(ids), k)):\n",
    "        # Если достигнут лимит, то прервать цикл\n",
    "        if k != 0 and i >= k + total_drops:\n",
    "            break\n",
    "        i += 1\n",
    "\n",
    "        # Выбрать данные по WebPriceId\n",
    "        df_id = df_month[df_month[ID_COLUMN] == web_price_id]\n",
    "\n",
    "        # Найти ближайшую стоимость к date и к date - 1 месяц\n",
    "        nearest_date = find_nearest_to_date_in_series(df_id[DATE_COLUMN], date)\n",
    "        nearest_date_prev = find_nearest_to_date_in_series(df_id[DATE_COLUMN], pd.to_datetime(date) - pd.Timedelta(days=45))\n",
    "\n",
    "        # Если nearest_date или nearest_date_prev пустые, то пропустить товар\n",
    "        if nearest_date.empty or nearest_date_prev.empty:\n",
    "            continue\n",
    "\n",
    "        # Отсеить товар, если между краевыми датами меньше 25 дней\n",
    "        days_in_between = (pd.to_datetime(nearest_date.values[0]) - pd.to_datetime(nearest_date_prev.values[0])).days\n",
    "        if days_in_between < 10:\n",
    "            # print('drop: ', days_in_between)\n",
    "            total_drops += 1\n",
    "            continue\n",
    "\n",
    "        # Выбрать стоимость по ближайшей дате\n",
    "        price = df_id[df_id[DATE_COLUMN] == nearest_date.values[0]][PRICE_COLUMN].values[0]\n",
    "        price_prev = df_id[df_id[DATE_COLUMN] == nearest_date_prev.values[0]][PRICE_COLUMN].values[0]\n",
    "        interval = days_in_between\n",
    "\n",
    "        # Посчитать ИПЦ\n",
    "        ipc_frame = pd.concat([ipc_frame, pd.DataFrame([[web_price_id, price, price_prev, interval]])])\n",
    "\n",
    "        # Поправка на интервал между датами\n",
    "        # ipc = ipc ** (30 / days_in_between)\n",
    "\n",
    "    try:\n",
    "        ipc_frame['ipc'] = ipc_frame.apply(lambda x: (x[1] / x[2] * (30/interval)) - 1, axis=1)\n",
    "        return ipc_frame['ipc'].mean(), total_drops\n",
    "    except:\n",
    "        return 0, -1\n",
    "\n",
    "baseline_prediction(df_db, '2022-07-21', k=3000)\n"
   ]
  },
  {
   "cell_type": "code",
   "execution_count": null,
   "metadata": {},
   "outputs": [],
   "source": []
  },
  {
   "cell_type": "code",
   "execution_count": 27,
   "metadata": {},
   "outputs": [],
   "source": [
    "ids = df_db.groupby(ID_COLUMN).filter(lambda x: len(x) > 3)[ID_COLUMN].unique()\n"
   ]
  },
  {
   "cell_type": "code",
   "execution_count": 28,
   "metadata": {},
   "outputs": [],
   "source": [
    "def cyclic_prediction(k, times, df, date, ids):\n",
    "    pred_results =[  baseline_prediction(df, date, k=k, ids=ids)[0] for i in range(1,times) ]\n",
    "    return np.mean(pred_results), pred_results\n",
    "\n",
    "# mean, results = cyclic_prediction(k=5000, times=5, df=df_db, date='2022-07-21', ids=ids)\n",
    "# for r in results:\n",
    "#     resultses.append(r)\n",
    "\n",
    "\n"
   ]
  },
  {
   "cell_type": "code",
   "execution_count": 253,
   "metadata": {},
   "outputs": [
    {
     "name": "stdout",
     "output_type": "stream",
     "text": [
      "[]\n"
     ]
    },
    {
     "name": "stderr",
     "output_type": "stream",
     "text": [
      "100%|██████████| 750/750 [00:03<00:00, 206.44it/s]\n",
      "100%|██████████| 750/750 [00:03<00:00, 197.99it/s]\n",
      "100%|██████████| 750/750 [00:03<00:00, 208.97it/s]\n",
      "100%|██████████| 750/750 [00:03<00:00, 205.83it/s]\n",
      "100%|██████████| 750/750 [00:03<00:00, 208.71it/s]\n",
      "100%|██████████| 750/750 [00:03<00:00, 203.33it/s]\n",
      "100%|██████████| 750/750 [00:03<00:00, 213.51it/s]\n",
      "100%|██████████| 750/750 [00:03<00:00, 207.12it/s]\n",
      "100%|██████████| 750/750 [00:03<00:00, 208.62it/s]\n",
      "100%|██████████| 750/750 [00:03<00:00, 205.22it/s]\n",
      "100%|██████████| 750/750 [00:03<00:00, 202.14it/s]\n",
      "100%|██████████| 750/750 [00:03<00:00, 199.44it/s]\n",
      "100%|██████████| 750/750 [00:03<00:00, 205.34it/s]\n",
      "100%|██████████| 750/750 [00:03<00:00, 207.23it/s]\n",
      "100%|██████████| 5000/5000 [00:24<00:00, 203.15it/s]\n",
      "100%|██████████| 5000/5000 [00:24<00:00, 203.19it/s]\n",
      "100%|██████████| 5000/5000 [00:24<00:00, 203.43it/s]\n",
      "100%|██████████| 5000/5000 [00:24<00:00, 204.16it/s]\n",
      "/home/quakumei/.conda/envs/py39/lib/python3.9/site-packages/numpy/core/_methods.py:163: VisibleDeprecationWarning: Creating an ndarray from ragged nested sequences (which is a list-or-tuple of lists-or-tuples-or ndarrays with different lengths or shapes) is deprecated. If you meant to do this, you must specify 'dtype=object' when creating the ndarray.\n",
      "  arr = asanyarray(a)\n",
      "100%|██████████| 3000/3000 [00:14<00:00, 205.17it/s]\n",
      "100%|██████████| 3000/3000 [00:14<00:00, 200.85it/s]\n",
      "100%|██████████| 3000/3000 [00:14<00:00, 202.27it/s]\n",
      "100%|██████████| 3000/3000 [00:15<00:00, 197.60it/s]\n",
      "100%|██████████| 3000/3000 [00:14<00:00, 205.55it/s]\n",
      "100%|██████████| 3000/3000 [00:14<00:00, 201.44it/s]\n",
      "100%|██████████| 3000/3000 [00:14<00:00, 201.79it/s]\n",
      "100%|██████████| 3000/3000 [00:14<00:00, 201.55it/s]\n",
      "100%|██████████| 3000/3000 [00:14<00:00, 200.62it/s]\n",
      "/home/quakumei/.conda/envs/py39/lib/python3.9/site-packages/numpy/core/_methods.py:163: VisibleDeprecationWarning: Creating an ndarray from ragged nested sequences (which is a list-or-tuple of lists-or-tuples-or ndarrays with different lengths or shapes) is deprecated. If you meant to do this, you must specify 'dtype=object' when creating the ndarray.\n",
      "  arr = asanyarray(a)\n",
      "100%|██████████| 1000/1000 [00:04<00:00, 202.06it/s]\n",
      "100%|██████████| 1000/1000 [00:05<00:00, 193.96it/s]\n",
      "100%|██████████| 1000/1000 [00:05<00:00, 194.46it/s]\n",
      "100%|██████████| 1000/1000 [00:05<00:00, 191.63it/s]\n",
      "100%|██████████| 1000/1000 [00:05<00:00, 197.01it/s]\n",
      "100%|██████████| 1000/1000 [00:05<00:00, 199.14it/s]\n",
      "100%|██████████| 1000/1000 [00:05<00:00, 196.76it/s]\n",
      "100%|██████████| 1000/1000 [00:05<00:00, 199.51it/s]\n",
      "100%|██████████| 1000/1000 [00:04<00:00, 200.57it/s]\n",
      "/home/quakumei/.conda/envs/py39/lib/python3.9/site-packages/numpy/core/_methods.py:163: VisibleDeprecationWarning: Creating an ndarray from ragged nested sequences (which is a list-or-tuple of lists-or-tuples-or ndarrays with different lengths or shapes) is deprecated. If you meant to do this, you must specify 'dtype=object' when creating the ndarray.\n",
      "  arr = asanyarray(a)\n",
      "100%|██████████| 1000/1000 [00:04<00:00, 202.27it/s]\n",
      "100%|██████████| 1000/1000 [00:04<00:00, 201.92it/s]\n",
      "100%|██████████| 1000/1000 [00:04<00:00, 203.76it/s]\n",
      "100%|██████████| 1000/1000 [00:05<00:00, 195.95it/s]\n",
      "100%|██████████| 1000/1000 [00:04<00:00, 206.01it/s]\n",
      "100%|██████████| 1000/1000 [00:05<00:00, 199.22it/s]\n",
      "100%|██████████| 1000/1000 [00:04<00:00, 205.81it/s]\n",
      "100%|██████████| 1000/1000 [00:04<00:00, 203.30it/s]\n",
      "100%|██████████| 1000/1000 [00:04<00:00, 206.37it/s]\n",
      "/home/quakumei/.conda/envs/py39/lib/python3.9/site-packages/numpy/core/_methods.py:163: VisibleDeprecationWarning: Creating an ndarray from ragged nested sequences (which is a list-or-tuple of lists-or-tuples-or ndarrays with different lengths or shapes) is deprecated. If you meant to do this, you must specify 'dtype=object' when creating the ndarray.\n",
      "  arr = asanyarray(a)\n"
     ]
    }
   ],
   "source": [
    "resultses = []\n",
    "resultses_means = []\n",
    "date = '2022-08-01'\n",
    "print(resultses_means)\n",
    "resultses.append(cyclic_prediction(k=750, times=15, df=df_db, date=date, ids=ids)[1])\n",
    "resultses_means.append(np.mean(resultses))\n",
    "resultses.append(cyclic_prediction(k=5000, times=5, df=df_db, date=date, ids=ids)[1])\n",
    "resultses_means.append(np.mean(resultses))\n",
    "resultses.append(cyclic_prediction(k=3000, times=10, df=df_db, date=date, ids=ids)[1])\n",
    "resultses_means.append(np.mean(resultses))\n",
    "resultses.append(cyclic_prediction(k=1000, times=10, df=df_db, date=date, ids=ids)[1])\n",
    "resultses_means.append(np.mean(resultses))\n",
    "resultses.append(cyclic_prediction(k=1000, times=10, df=df_db, date=date, ids=ids)[1])\n",
    "resultses_means.append(np.mean(resultses))\n",
    "\n"
   ]
  },
  {
   "cell_type": "code",
   "execution_count": 255,
   "metadata": {},
   "outputs": [],
   "source": [
    "resultses_means = [np.mean(resultses[:15]), np.mean(resultses[:20]), np.mean(resultses[:30]), np.mean(resultses[:40]), np.mean(resultses[:50])]"
   ]
  },
  {
   "cell_type": "code",
   "execution_count": 257,
   "metadata": {},
   "outputs": [
    {
     "data": {
      "text/plain": [
       "[0.485747922478852,\n",
       " 0.47382154960319756,\n",
       " 0.41735062552691526,\n",
       " 0.40984717660742176,\n",
       " 0.3996047535311654]"
      ]
     },
     "execution_count": 257,
     "metadata": {},
     "output_type": "execute_result"
    }
   ],
   "source": [
    "resultses_means"
   ]
  },
  {
   "cell_type": "code",
   "execution_count": 1,
   "metadata": {},
   "outputs": [],
   "source": []
  },
  {
   "cell_type": "code",
   "execution_count": 24,
   "metadata": {},
   "outputs": [
    {
     "data": {
      "image/png": "[encoded data removed]",
      "text/plain": [
       "<Figure size 400x200 with 1 Axes>"
      ]
     },
     "metadata": {},
     "output_type": "display_data"
    }
   ],
   "source": [
    "import numpy as np\n",
    "import matplotlib.pyplot as plt\n",
    "import seaborn as sns\n",
    "\n",
    "sns.set_style('whitegrid')\n",
    "\n",
    "data = [0.05884139447426373, 0.1361979153219224, 0.34466663540943654, 1.2646117699740382, 1.4429734282210698, 0.3567796480451227, 0.24471436276581798, 0.5491422357740001, 1.0756022922448836, 1.1120179930243317, -0.08615950077178516, 0.22535794647074578, 0.30837200332371434, -0.02588413281045645, 0.27898484571567506, -0.10393423174076706, 0.8412947078940167, 0.3729550744768662, 0.3357468180811254, 0.7441497861699312, -0.0990366853458008, -0.10493779773722532, -0.12884130520868878, 0.4085033656307455, 0.33634837428087033, 0.1179455299679844, -0.008088939170520427, 0.4285257971129856, 0.840487365406369, 1.2531820688067838, -0.1062350374075101, 0.09042687867843653, -0.18433431308897325, 0.8640515491001036, 0.08483103581908627, 1.4281435120903718, 0.1215179531950414, 0.5678741033318261, 0.7315472243170056, 0.2755453924540273, 0.2653515427476568, 0.9675129358211633, -0.11502083738272807, 0.35176288331004835, 0.1187203201094374]\n",
    "data_means = [np.mean(data[:i]) for i in range(1, len(data))]\n",
    "# Set figsize\n",
    "plt.figure(figsize=(4, 2))\n",
    "plt.plot(data_means - data_means[-1])\n",
    "plt.plot([0 for i in range(1, len(data))])\n",
    "plt.title(\"Рост точности с увеличением числа итераций\")\n",
    "plt.ylabel(\"Ошибка\")\n",
    "plt.xlabel(\"Число предсказаний\")\n",
    "plt.show()"
   ]
  },
  {
   "cell_type": "code",
   "execution_count": 259,
   "metadata": {},
   "outputs": [
    {
     "name": "stdout",
     "output_type": "stream",
     "text": [
      "[0.05884139447426373, 0.1361979153219224, 0.34466663540943654, 1.2646117699740382, 1.4429734282210698, 0.3567796480451227, 0.24471436276581798, 0.5491422357740001, 1.0756022922448836, 1.1120179930243317, -0.08615950077178516, 0.22535794647074578, 0.30837200332371434, -0.02588413281045645, 0.27898484571567506, -0.10393423174076706, 0.8412947078940167, 0.3729550744768662, 0.3357468180811254, 0.7441497861699312, -0.0990366853458008, -0.10493779773722532, -0.12884130520868878, 0.4085033656307455, 0.33634837428087033, 0.1179455299679844, -0.008088939170520427, 0.4285257971129856, 0.840487365406369, 1.2531820688067838, -0.1062350374075101, 0.09042687867843653, -0.18433431308897325, 0.8640515491001036, 0.08483103581908627, 1.4281435120903718, 0.1215179531950414, 0.5678741033318261, 0.7315472243170056, 0.2755453924540273, 0.2653515427476568, 0.9675129358211633, -0.11502083738272807, 0.35176288331004835, 0.1187203201094374]\n",
      "0.3996047535311654\n"
     ]
    }
   ],
   "source": [
    "# unppack resultses\n",
    "resultses_copy = resultses.copy()\n",
    "\n",
    "# resultses = [result for sublist in resultses for result in sublist]\n",
    "\n",
    "print(resultses)\n",
    "print(np.mean(resultses))\n"
   ]
  },
  {
   "cell_type": "code",
   "execution_count": 260,
   "metadata": {},
   "outputs": [
    {
     "data": {
      "image/png": "[encoded data removed]",
      "text/plain": [
       "<Figure size 640x480 with 1 Axes>"
      ]
     },
     "metadata": {},
     "output_type": "display_data"
    }
   ],
   "source": [
    "# Plot result means\n",
    "plt.plot(resultses_means)\n",
    "plt.show()"
   ]
  },
  {
   "cell_type": "code",
   "execution_count": 205,
   "metadata": {},
   "outputs": [],
   "source": [
    "# remove inf from resultses\n",
    "resultses = [x for x in resultses if x != np.inf]"
   ]
  },
  {
   "cell_type": "markdown",
   "metadata": {},
   "source": [
    "# Check y_train\n"
   ]
  },
  {
   "cell_type": "code",
   "execution_count": 26,
   "metadata": {},
   "outputs": [
    {
     "data": {
      "text/html": [
       "<div>\n",
       "<style scoped>\n",
       "    .dataframe tbody tr th:only-of-type {\n",
       "        vertical-align: middle;\n",
       "    }\n",
       "\n",
       "    .dataframe tbody tr th {\n",
       "        vertical-align: top;\n",
       "    }\n",
       "\n",
       "    .dataframe thead th {\n",
       "        text-align: right;\n",
       "    }\n",
       "</style>\n",
       "<table border=\"1\" class=\"dataframe\">\n",
       "  <thead>\n",
       "    <tr style=\"text-align: right;\">\n",
       "      <th>ИПЦ, мом</th>\n",
       "      <th>Период</th>\n",
       "      <th>Целевой показатель</th>\n",
       "    </tr>\n",
       "  </thead>\n",
       "  <tbody>\n",
       "    <tr>\n",
       "      <th>0</th>\n",
       "      <td>2020-06-01 00:00:00</td>\n",
       "      <td>0.28</td>\n",
       "    </tr>\n",
       "    <tr>\n",
       "      <th>1</th>\n",
       "      <td>2020-07-01 00:00:00</td>\n",
       "      <td>-0.065</td>\n",
       "    </tr>\n",
       "    <tr>\n",
       "      <th>2</th>\n",
       "      <td>2020-08-01 00:00:00</td>\n",
       "      <td>-0.005</td>\n",
       "    </tr>\n",
       "    <tr>\n",
       "      <th>3</th>\n",
       "      <td>2020-09-01 00:00:00</td>\n",
       "      <td>0.315</td>\n",
       "    </tr>\n",
       "    <tr>\n",
       "      <th>4</th>\n",
       "      <td>2020-10-01 00:00:00</td>\n",
       "      <td>0</td>\n",
       "    </tr>\n",
       "  </tbody>\n",
       "</table>\n",
       "</div>"
      ],
      "text/plain": [
       "ИПЦ, мом               Период Целевой показатель\n",
       "0         2020-06-01 00:00:00               0.28\n",
       "1         2020-07-01 00:00:00             -0.065\n",
       "2         2020-08-01 00:00:00             -0.005\n",
       "3         2020-09-01 00:00:00              0.315\n",
       "4         2020-10-01 00:00:00                  0"
      ]
     },
     "execution_count": 26,
     "metadata": {},
     "output_type": "execute_result"
    }
   ],
   "source": [
    "# Evaluate baseline\n",
    "\n",
    "# Load test data\n",
    "def read_xlsx(path):\n",
    "    df = pd.read_excel(path, engine='openpyxl')\n",
    "    df = df.transpose()\n",
    "    df.columns = df.iloc[0]\n",
    "    df = df.drop(df.index[0])\n",
    "    # drop index\n",
    "    df = df.reset_index(drop=True)\n",
    "\n",
    "    return df\n",
    "\n",
    "# read data\n",
    "df_y_train = read_xlsx(f\"../data/raw/Y_train.xlsx\")\n",
    "df_y_train.head()\n"
   ]
  },
  {
   "cell_type": "code",
   "execution_count": 35,
   "metadata": {},
   "outputs": [],
   "source": [
    "import numpy as np"
   ]
  },
  {
   "cell_type": "code",
   "execution_count": 39,
   "metadata": {},
   "outputs": [
    {
     "data": {
      "application/vnd.jupyter.widget-view+json": {
       "model_id": "0a4fd75c0f9b4ad4b9f61213234124b9",
       "version_major": 2,
       "version_minor": 0
      },
      "text/plain": [
       "VBox(children=(HBox(children=(IntProgress(value=0, description='0.00%', max=3), Label(value='0 / 3'))), HBox(c…"
      ]
     },
     "metadata": {},
     "output_type": "display_data"
    },
    {
     "name": "stderr",
     "output_type": "stream",
     "text": [
      "100%|██████████| 500/500 [00:01<00:00, 326.90it/s]\n",
      "100%|██████████| 500/500 [00:02<00:00, 198.99it/s]\n",
      "100%|██████████| 500/500 [00:03<00:00, 162.80it/s]\n",
      "100%|██████████| 500/500 [00:03<00:00, 149.30it/s]\n",
      "100%|██████████| 500/500 [00:03<00:00, 147.24it/s]\n",
      "100%|██████████| 500/500 [00:03<00:00, 154.73it/s]\n",
      "100%|██████████| 500/500 [00:03<00:00, 136.10it/s]\n",
      "100%|██████████| 500/500 [00:01<00:00, 255.80it/s]\n",
      "100%|██████████| 500/500 [00:03<00:00, 125.31it/s]\n",
      "100%|██████████| 500/500 [00:03<00:00, 128.10it/s]\n",
      "100%|██████████| 500/500 [00:04<00:00, 116.30it/s]\n",
      "100%|██████████| 500/500 [00:02<00:00, 192.68it/s]\n",
      "100%|██████████| 500/500 [00:01<00:00, 298.52it/s]\n",
      "100%|██████████| 500/500 [00:02<00:00, 175.87it/s]\n",
      "100%|██████████| 500/500 [00:02<00:00, 170.74it/s]\n",
      "100%|██████████| 500/500 [00:03<00:00, 156.72it/s]\n",
      "100%|██████████| 500/500 [00:03<00:00, 152.99it/s]\n",
      "100%|██████████| 500/500 [00:03<00:00, 143.38it/s]\n",
      "100%|██████████| 500/500 [00:01<00:00, 272.06it/s]\n",
      "100%|██████████| 500/500 [00:02<00:00, 189.54it/s]\n",
      "100%|██████████| 500/500 [00:03<00:00, 126.70it/s]\n",
      "100%|██████████| 500/500 [00:03<00:00, 125.89it/s]\n",
      "100%|██████████| 500/500 [00:04<00:00, 115.13it/s]\n",
      "100%|██████████| 500/500 [00:02<00:00, 167.05it/s]\n",
      "100%|██████████| 500/500 [00:01<00:00, 293.91it/s]\n",
      "100%|██████████| 500/500 [00:02<00:00, 169.33it/s]\n",
      "100%|██████████| 500/500 [00:03<00:00, 155.16it/s]\n",
      "100%|██████████| 500/500 [00:03<00:00, 151.25it/s]\n",
      "100%|██████████| 500/500 [00:02<00:00, 198.68it/s]\n",
      "100%|██████████| 500/500 [00:03<00:00, 144.33it/s]\n",
      "100%|██████████| 500/500 [00:01<00:00, 270.28it/s]\n",
      "100%|██████████| 500/500 [00:03<00:00, 125.78it/s]\n",
      "100%|██████████| 500/500 [00:04<00:00, 123.78it/s]\n",
      "100%|██████████| 500/500 [00:03<00:00, 147.75it/s]\n",
      "100%|██████████| 500/500 [00:03<00:00, 147.72it/s]\n",
      "100%|██████████| 500/500 [00:02<00:00, 192.12it/s]\n",
      "100%|██████████| 500/500 [00:04<00:00, 115.31it/s]\n",
      "100%|██████████| 500/500 [00:01<00:00, 273.08it/s]\n",
      "100%|██████████| 500/500 [00:03<00:00, 144.70it/s]\n",
      "100%|██████████| 500/500 [00:03<00:00, 145.27it/s]\n",
      "100%|██████████| 500/500 [00:03<00:00, 140.83it/s]\n",
      "100%|██████████| 500/500 [00:01<00:00, 283.05it/s]\n",
      "100%|██████████| 500/500 [00:03<00:00, 131.77it/s]\n",
      "100%|██████████| 500/500 [00:03<00:00, 156.24it/s]\n",
      "100%|██████████| 500/500 [00:02<00:00, 192.64it/s]\n",
      "100%|██████████| 500/500 [00:03<00:00, 160.07it/s]\n",
      "100%|██████████| 500/500 [00:03<00:00, 131.23it/s]\n",
      "100%|██████████| 500/500 [00:03<00:00, 145.81it/s]\n",
      "100%|██████████| 500/500 [00:03<00:00, 146.59it/s]\n",
      "100%|██████████| 500/500 [00:01<00:00, 267.68it/s]\n",
      "100%|██████████| 500/500 [00:04<00:00, 116.04it/s]\n",
      "100%|██████████| 500/500 [00:03<00:00, 139.00it/s]\n",
      "100%|██████████| 500/500 [00:02<00:00, 195.28it/s]\n",
      "100%|██████████| 500/500 [00:03<00:00, 162.96it/s]\n",
      "100%|██████████| 500/500 [00:03<00:00, 160.83it/s]\n",
      "100%|██████████| 500/500 [00:01<00:00, 265.60it/s]\n",
      "100%|██████████| 500/500 [00:03<00:00, 128.12it/s]\n",
      "100%|██████████| 500/500 [00:03<00:00, 151.45it/s]\n",
      "100%|██████████| 500/500 [00:03<00:00, 126.14it/s]\n",
      "100%|██████████| 500/500 [00:03<00:00, 144.79it/s]\n",
      "100%|██████████| 500/500 [00:02<00:00, 191.09it/s]\n",
      "100%|██████████| 500/500 [00:01<00:00, 254.76it/s]\n",
      "100%|██████████| 500/500 [00:03<00:00, 139.80it/s]\n",
      "100%|██████████| 500/500 [00:04<00:00, 117.29it/s]\n",
      "100%|██████████| 500/500 [00:03<00:00, 158.75it/s]\n",
      "100%|██████████| 500/500 [00:03<00:00, 163.37it/s]\n",
      "100%|██████████| 500/500 [00:03<00:00, 152.63it/s]\n",
      "100%|██████████| 500/500 [00:03<00:00, 131.89it/s]\n",
      "100%|██████████| 500/500 [00:01<00:00, 262.25it/s]\n",
      "100%|██████████| 500/500 [00:03<00:00, 148.00it/s]\n",
      "100%|██████████| 500/500 [00:02<00:00, 195.25it/s]\n",
      "100%|██████████| 500/500 [00:03<00:00, 127.84it/s]\n",
      "100%|██████████| 500/500 [00:03<00:00, 142.88it/s]\n",
      "100%|██████████| 500/500 [00:03<00:00, 160.43it/s]\n",
      "100%|██████████| 500/500 [00:03<00:00, 152.92it/s]\n",
      "100%|██████████| 500/500 [00:01<00:00, 255.77it/s]\n",
      "100%|██████████| 500/500 [00:04<00:00, 116.59it/s]\n",
      "100%|██████████| 500/500 [00:03<00:00, 152.90it/s]\n",
      "100%|██████████| 500/500 [00:02<00:00, 172.61it/s]\n",
      "100%|██████████| 500/500 [00:03<00:00, 147.10it/s]\n",
      "100%|██████████| 500/500 [00:03<00:00, 128.56it/s]\n",
      "100%|██████████| 500/500 [00:01<00:00, 254.26it/s]\n",
      "100%|██████████| 500/500 [00:03<00:00, 129.07it/s]\n",
      "100%|██████████| 500/500 [00:03<00:00, 159.84it/s]\n",
      "100%|██████████| 500/500 [00:03<00:00, 157.32it/s]\n",
      "100%|██████████| 500/500 [00:03<00:00, 141.18it/s]\n",
      "100%|██████████| 500/500 [00:02<00:00, 177.41it/s]\n",
      "100%|██████████| 500/500 [00:01<00:00, 256.35it/s]\n",
      "100%|██████████| 500/500 [00:03<00:00, 147.92it/s]\n",
      "100%|██████████| 500/500 [00:04<00:00, 116.56it/s]\n",
      "100%|██████████| 500/500 [00:03<00:00, 140.33it/s]\n",
      "100%|██████████| 500/500 [00:04<00:00, 124.74it/s]\n",
      "100%|██████████| 500/500 [00:03<00:00, 125.58it/s]\n",
      "100%|██████████| 500/500 [00:03<00:00, 156.52it/s]\n",
      "100%|██████████| 500/500 [00:02<00:00, 234.55it/s]\n",
      "100%|██████████| 500/500 [00:03<00:00, 138.18it/s]\n",
      "100%|██████████| 500/500 [00:02<00:00, 171.37it/s]\n",
      "100%|██████████| 500/500 [00:03<00:00, 131.72it/s]\n",
      "100%|██████████| 500/500 [00:03<00:00, 138.91it/s]\n",
      "100%|██████████| 500/500 [00:03<00:00, 148.46it/s]\n",
      "100%|██████████| 500/500 [00:02<00:00, 246.58it/s]\n",
      "100%|██████████| 500/500 [00:04<00:00, 112.66it/s]\n",
      "100%|██████████| 500/500 [00:03<00:00, 150.97it/s]\n",
      "100%|██████████| 500/500 [00:04<00:00, 124.57it/s]\n",
      "100%|██████████| 500/500 [00:03<00:00, 160.37it/s]\n",
      "100%|██████████| 500/500 [00:03<00:00, 125.02it/s]\n",
      "100%|██████████| 500/500 [00:03<00:00, 136.00it/s]\n",
      "100%|██████████| 500/500 [00:02<00:00, 236.38it/s]\n",
      "100%|██████████| 500/500 [00:03<00:00, 128.78it/s]\n",
      "100%|██████████| 500/500 [00:03<00:00, 140.02it/s]\n",
      "100%|██████████| 500/500 [00:03<00:00, 149.19it/s]\n",
      "100%|██████████| 500/500 [00:03<00:00, 153.51it/s]\n",
      "100%|██████████| 500/500 [00:02<00:00, 168.49it/s]\n",
      "100%|██████████| 500/500 [00:02<00:00, 225.30it/s]\n",
      "100%|██████████| 500/500 [00:04<00:00, 106.57it/s]\n",
      "100%|██████████| 500/500 [00:03<00:00, 128.71it/s]\n",
      "100%|██████████| 500/500 [00:04<00:00, 108.35it/s]\n",
      "100%|██████████| 500/500 [00:04<00:00, 115.98it/s]\n",
      "100%|██████████| 500/500 [00:04<00:00, 122.32it/s]\n",
      "100%|██████████| 500/500 [00:03<00:00, 143.76it/s]\n",
      "100%|██████████| 500/500 [00:02<00:00, 230.08it/s]\n",
      "100%|██████████| 500/500 [00:03<00:00, 134.69it/s]\n",
      "100%|██████████| 500/500 [00:02<00:00, 181.90it/s]\n",
      "100%|██████████| 500/500 [00:03<00:00, 160.04it/s]\n",
      "100%|██████████| 500/500 [00:02<00:00, 228.18it/s]\n",
      "100%|██████████| 500/500 [00:03<00:00, 143.80it/s]\n",
      "100%|██████████| 500/500 [00:03<00:00, 136.26it/s]\n",
      "100%|██████████| 500/500 [00:03<00:00, 144.04it/s]\n",
      "100%|██████████| 500/500 [00:04<00:00, 119.10it/s]\n",
      "100%|██████████| 500/500 [00:03<00:00, 161.53it/s]\n",
      "100%|██████████| 500/500 [00:04<00:00, 112.53it/s]\n",
      "100%|██████████| 500/500 [00:04<00:00, 122.40it/s]\n",
      "100%|██████████| 500/500 [00:03<00:00, 137.43it/s]\n",
      "100%|██████████| 500/500 [00:03<00:00, 152.48it/s]\n",
      "100%|██████████| 500/500 [00:02<00:00, 238.31it/s]\n",
      "100%|██████████| 500/500 [00:03<00:00, 148.40it/s]\n",
      "100%|██████████| 500/500 [00:03<00:00, 142.72it/s]\n",
      "100%|██████████| 500/500 [00:02<00:00, 173.38it/s]\n",
      "100%|██████████| 500/500 [00:03<00:00, 153.08it/s]\n",
      "100%|██████████| 500/500 [00:02<00:00, 215.40it/s]\n",
      "100%|██████████| 500/500 [00:03<00:00, 147.81it/s]\n",
      "100%|██████████| 500/500 [00:03<00:00, 132.74it/s]\n",
      "100%|██████████| 500/500 [00:04<00:00, 120.25it/s]\n",
      "100%|██████████| 500/500 [00:04<00:00, 124.71it/s]\n",
      "100%|██████████| 500/500 [00:04<00:00, 109.72it/s]\n",
      "100%|██████████| 500/500 [00:02<00:00, 240.91it/s]\n",
      "100%|██████████| 500/500 [00:02<00:00, 179.63it/s]\n",
      "100%|██████████| 500/500 [00:03<00:00, 144.93it/s]\n",
      "100%|██████████| 500/500 [00:03<00:00, 141.39it/s]\n",
      "100%|██████████| 500/500 [00:03<00:00, 158.95it/s]\n",
      "100%|██████████| 500/500 [00:02<00:00, 169.63it/s]\n",
      "100%|██████████| 500/500 [00:03<00:00, 146.86it/s]\n",
      "100%|██████████| 500/500 [00:02<00:00, 227.69it/s]\n",
      "100%|██████████| 500/500 [00:03<00:00, 134.76it/s]\n",
      "100%|██████████| 500/500 [00:03<00:00, 130.19it/s]\n",
      "100%|██████████| 500/500 [00:04<00:00, 120.21it/s]\n",
      "100%|██████████| 500/500 [00:03<00:00, 157.15it/s]\n",
      "100%|██████████| 500/500 [00:03<00:00, 156.17it/s]\n",
      "100%|██████████| 500/500 [00:02<00:00, 178.20it/s]\n",
      "100%|██████████| 500/500 [00:02<00:00, 240.76it/s]\n",
      "100%|██████████| 500/500 [00:02<00:00, 174.14it/s]\n",
      "100%|██████████| 500/500 [00:03<00:00, 153.00it/s]\n",
      "100%|██████████| 500/500 [00:03<00:00, 134.90it/s]\n",
      "100%|██████████| 500/500 [00:03<00:00, 132.77it/s]\n",
      "100%|██████████| 500/500 [00:02<00:00, 230.25it/s]\n",
      "100%|██████████| 500/500 [00:03<00:00, 150.25it/s]\n",
      "100%|██████████| 500/500 [00:03<00:00, 164.81it/s]\n",
      "100%|██████████| 500/500 [00:03<00:00, 164.76it/s]\n",
      "100%|██████████| 500/500 [00:04<00:00, 120.66it/s]\n",
      "100%|██████████| 500/500 [00:03<00:00, 150.31it/s]\n",
      "100%|██████████| 500/500 [00:02<00:00, 168.73it/s]\n",
      "100%|██████████| 500/500 [00:03<00:00, 154.77it/s]\n",
      "100%|██████████| 500/500 [00:03<00:00, 146.99it/s]\n",
      "100%|██████████| 500/500 [00:02<00:00, 170.75it/s]\n",
      "100%|██████████| 500/500 [00:02<00:00, 183.27it/s]\n",
      "100%|██████████| 500/500 [00:02<00:00, 169.80it/s]\n",
      "100%|██████████| 500/500 [00:02<00:00, 177.01it/s]\n",
      "100%|██████████| 500/500 [00:03<00:00, 139.77it/s]\n",
      "100%|██████████| 500/500 [00:02<00:00, 180.47it/s]\n",
      "100%|██████████| 500/500 [00:02<00:00, 200.06it/s]\n",
      "100%|██████████| 500/500 [00:02<00:00, 175.76it/s]\n",
      "100%|██████████| 500/500 [00:02<00:00, 207.89it/s]\n",
      "100%|██████████| 500/500 [00:03<00:00, 157.38it/s]\n",
      "100%|██████████| 500/500 [00:02<00:00, 191.35it/s]\n",
      "100%|██████████| 500/500 [00:02<00:00, 179.75it/s]\n",
      "100%|██████████| 500/500 [00:02<00:00, 173.83it/s]\n",
      "100%|██████████| 500/500 [00:02<00:00, 211.97it/s]\n",
      "100%|██████████| 500/500 [00:02<00:00, 204.64it/s]\n",
      "100%|██████████| 500/500 [00:02<00:00, 191.68it/s]\n",
      "100%|██████████| 500/500 [00:03<00:00, 161.04it/s]\n",
      "100%|██████████| 500/500 [00:02<00:00, 183.67it/s]\n",
      "100%|██████████| 500/500 [00:02<00:00, 230.55it/s]\n",
      "100%|██████████| 500/500 [00:02<00:00, 208.43it/s]\n",
      "100%|██████████| 500/500 [00:02<00:00, 216.89it/s]\n",
      "100%|██████████| 500/500 [00:02<00:00, 172.95it/s]\n",
      "100%|██████████| 500/500 [00:02<00:00, 182.58it/s]\n",
      "100%|██████████| 500/500 [00:02<00:00, 242.45it/s]\n",
      "100%|██████████| 500/500 [00:02<00:00, 237.28it/s]\n",
      "100%|██████████| 500/500 [00:02<00:00, 203.56it/s]\n",
      "100%|██████████| 500/500 [00:02<00:00, 229.00it/s]\n",
      "100%|██████████| 500/500 [00:02<00:00, 247.63it/s]\n",
      "100%|██████████| 500/500 [00:02<00:00, 203.04it/s]\n",
      "100%|██████████| 500/500 [00:02<00:00, 230.24it/s]\n",
      "100%|██████████| 500/500 [00:02<00:00, 245.33it/s]\n",
      "100%|██████████| 500/500 [00:02<00:00, 206.29it/s]\n",
      "100%|██████████| 500/500 [00:02<00:00, 225.71it/s]\n",
      "100%|██████████| 500/500 [00:02<00:00, 243.43it/s]\n",
      "100%|██████████| 500/500 [00:02<00:00, 207.33it/s]\n",
      "100%|██████████| 500/500 [00:02<00:00, 242.28it/s]\n",
      "100%|██████████| 500/500 [00:02<00:00, 222.88it/s]\n",
      "100%|██████████| 500/500 [00:02<00:00, 218.59it/s]\n",
      "100%|██████████| 500/500 [00:02<00:00, 238.84it/s]\n",
      "100%|██████████| 500/500 [00:02<00:00, 235.13it/s]\n",
      "100%|██████████| 500/500 [00:02<00:00, 213.31it/s]\n",
      "100%|██████████| 500/500 [00:02<00:00, 222.13it/s]\n",
      "100%|██████████| 500/500 [00:02<00:00, 223.33it/s]\n"
     ]
    }
   ],
   "source": [
    "# For each date in df_y_train, calculate baseline prediction\n",
    "df_y_train[\"predict\"] = df_y_train[\"Период\"].parallel_apply(lambda x: cyclic_prediction(k=500, times=10, df=df_db, date=x.strftime(\"%Y-%m-%d\"), ids=ids)[0])\n"
   ]
  },
  {
   "cell_type": "code",
   "execution_count": 49,
   "metadata": {},
   "outputs": [],
   "source": [
    "# drop df_y_train rows with inf\n",
    "df_y_train = df_y_train[df_y_train[\"mape\"] != np.inf]\n"
   ]
  },
  {
   "cell_type": "code",
   "execution_count": 56,
   "metadata": {},
   "outputs": [
    {
     "data": {
      "text/html": [
       "<div>\n",
       "<style scoped>\n",
       "    .dataframe tbody tr th:only-of-type {\n",
       "        vertical-align: middle;\n",
       "    }\n",
       "\n",
       "    .dataframe tbody tr th {\n",
       "        vertical-align: top;\n",
       "    }\n",
       "\n",
       "    .dataframe thead th {\n",
       "        text-align: right;\n",
       "    }\n",
       "</style>\n",
       "<table border=\"1\" class=\"dataframe\">\n",
       "  <thead>\n",
       "    <tr style=\"text-align: right;\">\n",
       "      <th>ИПЦ, мом</th>\n",
       "      <th>Период</th>\n",
       "      <th>Целевой показатель</th>\n",
       "      <th>predict</th>\n",
       "      <th>mape</th>\n",
       "    </tr>\n",
       "  </thead>\n",
       "  <tbody>\n",
       "    <tr>\n",
       "      <th>0</th>\n",
       "      <td>2020-06-01 00:00:00</td>\n",
       "      <td>0.28</td>\n",
       "      <td>0.000000</td>\n",
       "      <td>1.000000</td>\n",
       "    </tr>\n",
       "    <tr>\n",
       "      <th>1</th>\n",
       "      <td>2020-07-01 00:00:00</td>\n",
       "      <td>-0.065</td>\n",
       "      <td>0.000000</td>\n",
       "      <td>-1.000000</td>\n",
       "    </tr>\n",
       "    <tr>\n",
       "      <th>5</th>\n",
       "      <td>2020-11-01 00:00:00</td>\n",
       "      <td>0.375</td>\n",
       "      <td>0.590686</td>\n",
       "      <td>0.575163</td>\n",
       "    </tr>\n",
       "    <tr>\n",
       "      <th>6</th>\n",
       "      <td>2020-12-01 00:00:00</td>\n",
       "      <td>0.35</td>\n",
       "      <td>0.927677</td>\n",
       "      <td>1.650505</td>\n",
       "    </tr>\n",
       "    <tr>\n",
       "      <th>7</th>\n",
       "      <td>2021-01-01 00:00:00</td>\n",
       "      <td>0.38</td>\n",
       "      <td>0.924201</td>\n",
       "      <td>1.432107</td>\n",
       "    </tr>\n",
       "    <tr>\n",
       "      <th>8</th>\n",
       "      <td>2021-02-01 00:00:00</td>\n",
       "      <td>0.685</td>\n",
       "      <td>0.488659</td>\n",
       "      <td>0.286629</td>\n",
       "    </tr>\n",
       "    <tr>\n",
       "      <th>9</th>\n",
       "      <td>2021-03-01 00:00:00</td>\n",
       "      <td>0.255</td>\n",
       "      <td>0.283215</td>\n",
       "      <td>0.110645</td>\n",
       "    </tr>\n",
       "    <tr>\n",
       "      <th>11</th>\n",
       "      <td>2021-05-01 00:00:00</td>\n",
       "      <td>0.485</td>\n",
       "      <td>1.309143</td>\n",
       "      <td>1.699263</td>\n",
       "    </tr>\n",
       "    <tr>\n",
       "      <th>12</th>\n",
       "      <td>2021-06-01 00:00:00</td>\n",
       "      <td>0.25</td>\n",
       "      <td>0.298085</td>\n",
       "      <td>0.192338</td>\n",
       "    </tr>\n",
       "    <tr>\n",
       "      <th>13</th>\n",
       "      <td>2021-07-01 00:00:00</td>\n",
       "      <td>-0.135</td>\n",
       "      <td>0.632819</td>\n",
       "      <td>-5.687550</td>\n",
       "    </tr>\n",
       "    <tr>\n",
       "      <th>14</th>\n",
       "      <td>2021-08-01 00:00:00</td>\n",
       "      <td>0.35</td>\n",
       "      <td>0.445482</td>\n",
       "      <td>0.272805</td>\n",
       "    </tr>\n",
       "    <tr>\n",
       "      <th>15</th>\n",
       "      <td>2021-09-01 00:00:00</td>\n",
       "      <td>0.345</td>\n",
       "      <td>1.035595</td>\n",
       "      <td>2.001725</td>\n",
       "    </tr>\n",
       "    <tr>\n",
       "      <th>16</th>\n",
       "      <td>2021-10-01 00:00:00</td>\n",
       "      <td>0.675</td>\n",
       "      <td>0.436308</td>\n",
       "      <td>0.353618</td>\n",
       "    </tr>\n",
       "    <tr>\n",
       "      <th>17</th>\n",
       "      <td>2021-11-01 00:00:00</td>\n",
       "      <td>0.74</td>\n",
       "      <td>0.366401</td>\n",
       "      <td>0.504863</td>\n",
       "    </tr>\n",
       "    <tr>\n",
       "      <th>18</th>\n",
       "      <td>2021-12-01 00:00:00</td>\n",
       "      <td>1.255</td>\n",
       "      <td>0.859378</td>\n",
       "      <td>0.315236</td>\n",
       "    </tr>\n",
       "    <tr>\n",
       "      <th>19</th>\n",
       "      <td>2022-01-01 00:00:00</td>\n",
       "      <td>0.355</td>\n",
       "      <td>0.419621</td>\n",
       "      <td>0.182030</td>\n",
       "    </tr>\n",
       "    <tr>\n",
       "      <th>20</th>\n",
       "      <td>2022-02-01 00:00:00</td>\n",
       "      <td>1.335</td>\n",
       "      <td>0.545785</td>\n",
       "      <td>0.591172</td>\n",
       "    </tr>\n",
       "    <tr>\n",
       "      <th>21</th>\n",
       "      <td>2022-03-01 00:00:00</td>\n",
       "      <td>3.555</td>\n",
       "      <td>1.123932</td>\n",
       "      <td>0.683845</td>\n",
       "    </tr>\n",
       "    <tr>\n",
       "      <th>22</th>\n",
       "      <td>2022-04-01 00:00:00</td>\n",
       "      <td>1.89</td>\n",
       "      <td>1.079276</td>\n",
       "      <td>0.428955</td>\n",
       "    </tr>\n",
       "    <tr>\n",
       "      <th>23</th>\n",
       "      <td>2022-05-01 00:00:00</td>\n",
       "      <td>1.56</td>\n",
       "      <td>1.006575</td>\n",
       "      <td>0.354760</td>\n",
       "    </tr>\n",
       "  </tbody>\n",
       "</table>\n",
       "</div>"
      ],
      "text/plain": [
       "ИПЦ, мом               Период Целевой показатель   predict      mape\n",
       "0         2020-06-01 00:00:00               0.28  0.000000  1.000000\n",
       "1         2020-07-01 00:00:00             -0.065  0.000000 -1.000000\n",
       "5         2020-11-01 00:00:00              0.375  0.590686  0.575163\n",
       "6         2020-12-01 00:00:00               0.35  0.927677  1.650505\n",
       "7         2021-01-01 00:00:00               0.38  0.924201  1.432107\n",
       "8         2021-02-01 00:00:00              0.685  0.488659  0.286629\n",
       "9         2021-03-01 00:00:00              0.255  0.283215  0.110645\n",
       "11        2021-05-01 00:00:00              0.485  1.309143  1.699263\n",
       "12        2021-06-01 00:00:00               0.25  0.298085  0.192338\n",
       "13        2021-07-01 00:00:00             -0.135  0.632819 -5.687550\n",
       "14        2021-08-01 00:00:00               0.35  0.445482  0.272805\n",
       "15        2021-09-01 00:00:00              0.345  1.035595  2.001725\n",
       "16        2021-10-01 00:00:00              0.675  0.436308  0.353618\n",
       "17        2021-11-01 00:00:00               0.74  0.366401  0.504863\n",
       "18        2021-12-01 00:00:00              1.255  0.859378  0.315236\n",
       "19        2022-01-01 00:00:00              0.355  0.419621  0.182030\n",
       "20        2022-02-01 00:00:00              1.335  0.545785  0.591172\n",
       "21        2022-03-01 00:00:00              3.555  1.123932  0.683845\n",
       "22        2022-04-01 00:00:00               1.89  1.079276  0.428955\n",
       "23        2022-05-01 00:00:00               1.56  1.006575  0.354760"
      ]
     },
     "execution_count": 56,
     "metadata": {},
     "output_type": "execute_result"
    }
   ],
   "source": [
    "df_y_train"
   ]
  },
  {
   "cell_type": "code",
   "execution_count": 57,
   "metadata": {},
   "outputs": [
    {
     "data": {
      "text/plain": [
       "0.2974055188795553"
      ]
     },
     "execution_count": 57,
     "metadata": {},
     "output_type": "execute_result"
    }
   ],
   "source": [
    "# Calculate MAPE\n",
    "df_y_train[\"mape\"] = df_y_train.apply(lambda x: np.abs(x[\"predict\"] - x[\"Целевой показатель\"]) / x[\"Целевой показатель\"], axis=1)\n",
    "df_y_train[\"mape\"].mean()"
   ]
  },
  {
   "cell_type": "code",
   "execution_count": 58,
   "metadata": {},
   "outputs": [
    {
     "data": {
      "text/plain": [
       "0.5204604867897418"
      ]
     },
     "execution_count": 58,
     "metadata": {},
     "output_type": "execute_result"
    }
   ],
   "source": [
    "# Calculate MSE\n",
    "df_y_train[\"mse\"] = df_y_train.apply(lambda x: (x[\"predict\"] - x[\"Целевой показатель\"]) ** 2, axis=1)\n",
    "df_y_train[\"mse\"].mean()"
   ]
  },
  {
   "cell_type": "code",
   "execution_count": 42,
   "metadata": {},
   "outputs": [
    {
     "name": "stderr",
     "output_type": "stream",
     "text": [
      "/tmp/ipykernel_2983366/759320144.py:2: FutureWarning: Dropping of nuisance columns in DataFrame reductions (with 'numeric_only=None') is deprecated; in a future version this will raise TypeError.  Select only valid columns before calling the reduction.\n",
      "  adaptive.mean()\n"
     ]
    },
    {
     "data": {
      "text/plain": [
       "ИПЦ, мом\n",
       "Целевой показатель (для проверки адаптивности)    0.925417\n",
       "dtype: float64"
      ]
     },
     "execution_count": 42,
     "metadata": {},
     "output_type": "execute_result"
    }
   ],
   "source": [
    "adaptive = read_xlsx(f\"../data/raw/Y_train_adaptive.xlsx\")\n",
    "adaptive.mean()"
   ]
  },
  {
   "cell_type": "code",
   "execution_count": null,
   "metadata": {},
   "outputs": [],
   "source": []
  }
 ],
 "metadata": {
  "kernelspec": {
   "display_name": "Python 3.9.13 ('py39')",
   "language": "python",
   "name": "python3"
  },
  "language_info": {
   "codemirror_mode": {
    "name": "ipython",
    "version": 3
   },
   "file_extension": ".py",
   "mimetype": "text/x-python",
   "name": "python",
   "nbconvert_exporter": "python",
   "pygments_lexer": "ipython3",
   "version": "3.9.13"
  },
  "orig_nbformat": 4,
  "vscode": {
   "interpreter": {
    "hash": "b1ff565e3597931078b1c740699c8d9fab8d699071f2fe19c95c8e8dcc80a919"
   }
  }
 },
 "nbformat": 4,
 "nbformat_minor": 2
}
