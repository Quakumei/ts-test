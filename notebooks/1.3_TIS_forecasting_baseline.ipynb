{
 "cells": [
  {
   "cell_type": "code",
   "execution_count": 60,
   "metadata": {},
   "outputs": [
    {
     "name": "stdout",
     "output_type": "stream",
     "text": [
      "INFO: Pandarallel will run on 10 workers.\n",
      "INFO: Pandarallel will use Memory file system to transfer data between the main process and workers.\n"
     ]
    }
   ],
   "source": [
    "import pandas as pd\n",
    "from tqdm import tqdm\n",
    "from pandarallel import pandarallel\n",
    "\n",
    "pandarallel.initialize(progress_bar=True)\n",
    "\n",
    "DATA_ROOT = '../data'"
   ]
  },
  {
   "cell_type": "code",
   "execution_count": 61,
   "metadata": {},
   "outputs": [
    {
     "data": {
      "text/plain": [
       "(69173886, 4)"
      ]
     },
     "execution_count": 61,
     "metadata": {},
     "output_type": "execute_result"
    }
   ],
   "source": [
    "# Read in the data\n",
    "df_db = pd.read_csv(f'{DATA_ROOT}/raw/DS_train/DS_train(2020-06--2022-06-01).csv', engine=\"pyarrow\", delimiter='\\t')\n",
    "df_db.shape"
   ]
  },
  {
   "cell_type": "code",
   "execution_count": 62,
   "metadata": {},
   "outputs": [
    {
     "name": "stdout",
     "output_type": "stream",
     "text": [
      "<class 'pandas.core.frame.DataFrame'>\n",
      "RangeIndex: 69173886 entries, 0 to 69173885\n",
      "Data columns (total 4 columns):\n",
      " #   Column        Dtype         \n",
      "---  ------        -----         \n",
      " 0   WebPriceId    int64         \n",
      " 1   DateObserve   datetime64[ns]\n",
      " 2   StockStatus   object        \n",
      " 3   CurrentPrice  float64       \n",
      "dtypes: datetime64[ns](1), float64(1), int64(1), object(1)\n",
      "memory usage: 2.1+ GB\n"
     ]
    }
   ],
   "source": [
    "df_db.info()"
   ]
  },
  {
   "cell_type": "code",
   "execution_count": 63,
   "metadata": {},
   "outputs": [],
   "source": [
    "DATE_COLUMN = \"DateObserve\"\n",
    "PRICE_COLUMN = \"CurrentPrice\"\n",
    "ID_COLUMN = \"WebPriceId\"\n",
    "STOCK_STATUS_COLUMN = \"StockStatus\""
   ]
  },
  {
   "cell_type": "code",
   "execution_count": 64,
   "metadata": {},
   "outputs": [],
   "source": [
    "# Remove webpriceids with less than 10 observations\n",
    "# df_db = df_db.groupby(ID_COLUMN).filter(lambda x: len(x) > 10)"
   ]
  },
  {
   "cell_type": "code",
   "execution_count": 65,
   "metadata": {},
   "outputs": [],
   "source": [
    "def select_data_in_between(df: pd.DataFrame, date_start: str = None, date_end: str = None) -> pd.DataFrame:\n",
    "    \"\"\"\n",
    "    Select data between two dates\n",
    "    \"\"\"\n",
    "    if date_start is None:\n",
    "        date_start = df[DATE_COLUMN].min()\n",
    "    if date_end is None:\n",
    "        date_end = df[DATE_COLUMN].max()\n",
    "    return df[(df[DATE_COLUMN] >= date_start) & (df[DATE_COLUMN] <= date_end)]"
   ]
  },
  {
   "cell_type": "code",
   "execution_count": 66,
   "metadata": {},
   "outputs": [],
   "source": [
    "def find_nearest_to_date_in_series(series: pd.Series, date: str) -> pd.Series:\n",
    "    \"\"\"\n",
    "    Find nearest date in a series\n",
    "    \"\"\"\n",
    "    return series.iloc[(series - pd.to_datetime(date)).abs().argsort()[:1]]"
   ]
  },
  {
   "cell_type": "code",
   "execution_count": 72,
   "metadata": {},
   "outputs": [],
   "source": [
    "# Remove webpriceids with less than 10 observations\n",
    "df_db = df_db[:100000000].groupby(ID_COLUMN).filter(lambda x: len(x) > 10)"
   ]
  },
  {
   "cell_type": "code",
   "execution_count": 105,
   "metadata": {},
   "outputs": [
    {
     "name": "stderr",
     "output_type": "stream",
     "text": [
      "100%|██████████| 798/798 [00:02<00:00, 317.16it/s]\n"
     ]
    },
    {
     "data": {
      "text/plain": [
       "(0.5281096688537906, 453)"
      ]
     },
     "execution_count": 105,
     "metadata": {},
     "output_type": "execute_result"
    }
   ],
   "source": [
    "# Реализация бейзлайна\n",
    "def baseline_prediction(df: pd.DataFrame, date: str, k: int = 5000) -> float:\n",
    "    \"\"\"\n",
    "        Предсказание ИПЦ для конца месяца, указанного в date,\n",
    "        на основании данных до date. Среднее по ИПЦ всех отдельных\n",
    "        товаров, рассчитывваемое по формуле\n",
    "\n",
    "        ИПЦ = Цена в date / Цена в date - 1, но месяц назад\n",
    "\n",
    "    Arguments:\n",
    "        df: pd.DataFrame - все данные\n",
    "        date: str - имеет формат \"ГГГГ-ММ-ДД\"\n",
    "        k: int - лимит на количество товаров, по которым считается среднее\n",
    "\n",
    "    Return:\n",
    "        IPC: float - предсказанная ИПЦ за месяц\n",
    "\n",
    "    \"\"\"\n",
    "\n",
    "\n",
    "    # Разбить date на текущий месяц, день и год\n",
    "    year, month, day = date.split('-')\n",
    "\n",
    "    # Выбрать данные от месяца назад до date, использовать pd.Timedelta\n",
    "    df_month = select_data_in_between(df, date_start=pd.to_datetime(date) - pd.Timedelta(days=31), date_end=date)\n",
    "    df_month = df_month[df_month[STOCK_STATUS_COLUMN] == \"InStock\"]\n",
    "\n",
    "    # Выбрать те WebPriceId, записи о которых есть в df_month\n",
    "    ids = df_month[ID_COLUMN].unique()\n",
    "\n",
    "    # Отсеить WebPriceId, у которых меньше 3 записей за этот период\n",
    "    ids = df_month.groupby(ID_COLUMN).filter(lambda x: len(x) > 3)[ID_COLUMN].unique()\n",
    "\n",
    "    ipc_frame = pd.DataFrame()\n",
    "    # Для каждого товара в промежутке посчитать ИПЦ\n",
    "    total_drops = 0\n",
    "    i = 0\n",
    "    for web_price_id in tqdm(ids, total=min(len(ids), k)):\n",
    "        # Если достигнут лимит, то прервать цикл\n",
    "        if i >= k + total_drops:\n",
    "            break\n",
    "        i += 1\n",
    "\n",
    "        # Выбрать данные по WebPriceId\n",
    "        df_id = df_month[df_month[ID_COLUMN] == web_price_id]\n",
    "\n",
    "        # Найти ближайшую стоимость к date и к date - 1 месяц\n",
    "        nearest_date = find_nearest_to_date_in_series(df_id[DATE_COLUMN], date)\n",
    "        nearest_date_prev = find_nearest_to_date_in_series(df_id[DATE_COLUMN], pd.to_datetime(date) - pd.Timedelta(days=29))\n",
    "\n",
    "        # Если nearest_date или nearest_date_prev пустые, то пропустить товар\n",
    "        if nearest_date.empty or nearest_date_prev.empty:\n",
    "            continue\n",
    "\n",
    "        # Отсеить товар, если между краевыми датами меньше 25 дней\n",
    "        days_in_between = (pd.to_datetime(nearest_date.values[0]) - pd.to_datetime(nearest_date_prev.values[0])).days\n",
    "        if days_in_between < 20:\n",
    "            # print('drop: ', days_in_between)\n",
    "            total_drops += 1\n",
    "            continue\n",
    "\n",
    "        # Выбрать стоимость по ближайшей дате\n",
    "        price = df_id[df_id[DATE_COLUMN] == nearest_date.values[0]][PRICE_COLUMN].values[0]\n",
    "        price_prev = df_id[df_id[DATE_COLUMN] == nearest_date_prev.values[0]][PRICE_COLUMN].values[0]\n",
    "        interval = days_in_between\n",
    "\n",
    "        # Посчитать ИПЦ\n",
    "        ipc_frame = pd.concat([ipc_frame, pd.DataFrame([[web_price_id, price, price_prev, interval]])])\n",
    "\n",
    "        # Поправка на интервал между датами\n",
    "        # ipc = ipc ** (30 / days_in_between)\n",
    "\n",
    "    try:\n",
    "        ipc_frame['ipc'] = ipc_frame.apply(lambda x: (x[1] / x[2]) * (30/interval) - 1, axis=1)\n",
    "    except:\n",
    "        return 0, -1\n",
    "    return ipc_frame['ipc'].mean(), total_drops\n",
    "\n",
    "baseline_prediction(df_db, '2021-10-01', k=1000)\n"
   ]
  },
  {
   "cell_type": "code",
   "execution_count": 96,
   "metadata": {},
   "outputs": [
    {
     "data": {
      "text/html": [
       "<div>\n",
       "<style scoped>\n",
       "    .dataframe tbody tr th:only-of-type {\n",
       "        vertical-align: middle;\n",
       "    }\n",
       "\n",
       "    .dataframe tbody tr th {\n",
       "        vertical-align: top;\n",
       "    }\n",
       "\n",
       "    .dataframe thead th {\n",
       "        text-align: right;\n",
       "    }\n",
       "</style>\n",
       "<table border=\"1\" class=\"dataframe\">\n",
       "  <thead>\n",
       "    <tr style=\"text-align: right;\">\n",
       "      <th>ИПЦ, мом</th>\n",
       "      <th>Период</th>\n",
       "      <th>Целевой показатель</th>\n",
       "    </tr>\n",
       "  </thead>\n",
       "  <tbody>\n",
       "    <tr>\n",
       "      <th>0</th>\n",
       "      <td>2020-06-01 00:00:00</td>\n",
       "      <td>0.28</td>\n",
       "    </tr>\n",
       "    <tr>\n",
       "      <th>1</th>\n",
       "      <td>2020-07-01 00:00:00</td>\n",
       "      <td>-0.065</td>\n",
       "    </tr>\n",
       "    <tr>\n",
       "      <th>2</th>\n",
       "      <td>2020-08-01 00:00:00</td>\n",
       "      <td>-0.005</td>\n",
       "    </tr>\n",
       "    <tr>\n",
       "      <th>3</th>\n",
       "      <td>2020-09-01 00:00:00</td>\n",
       "      <td>0.315</td>\n",
       "    </tr>\n",
       "    <tr>\n",
       "      <th>4</th>\n",
       "      <td>2020-10-01 00:00:00</td>\n",
       "      <td>0</td>\n",
       "    </tr>\n",
       "  </tbody>\n",
       "</table>\n",
       "</div>"
      ],
      "text/plain": [
       "ИПЦ, мом               Период Целевой показатель\n",
       "0         2020-06-01 00:00:00               0.28\n",
       "1         2020-07-01 00:00:00             -0.065\n",
       "2         2020-08-01 00:00:00             -0.005\n",
       "3         2020-09-01 00:00:00              0.315\n",
       "4         2020-10-01 00:00:00                  0"
      ]
     },
     "execution_count": 96,
     "metadata": {},
     "output_type": "execute_result"
    }
   ],
   "source": [
    "# Evaluate baseline\n",
    "\n",
    "# Load test data\n",
    "def read_xlsx(path):\n",
    "    df = pd.read_excel(path, engine='openpyxl')\n",
    "    df = df.transpose()\n",
    "    df.columns = df.iloc[0]\n",
    "    df = df.drop(df.index[0])\n",
    "    # drop index\n",
    "    df = df.reset_index(drop=True)\n",
    "\n",
    "    return df\n",
    "\n",
    "# read data\n",
    "df_y_train = read_xlsx(f\"../data/raw/Y_train.xlsx\")\n",
    "df_y_train.head()\n"
   ]
  },
  {
   "cell_type": "code",
   "execution_count": 97,
   "metadata": {},
   "outputs": [
    {
     "name": "stdout",
     "output_type": "stream",
     "text": [
      "<class 'pandas.core.frame.DataFrame'>\n",
      "RangeIndex: 24 entries, 0 to 23\n",
      "Data columns (total 2 columns):\n",
      " #   Column              Non-Null Count  Dtype         \n",
      "---  ------              --------------  -----         \n",
      " 0   Период              24 non-null     datetime64[ns]\n",
      " 1   Целевой показатель  24 non-null     object        \n",
      "dtypes: datetime64[ns](1), object(1)\n",
      "memory usage: 512.0+ bytes\n"
     ]
    }
   ],
   "source": [
    "# Convert Период to datetime\n",
    "df_y_train['Период'] = pd.to_datetime(df_y_train['Период'])\n",
    "df_y_train.info()"
   ]
  },
  {
   "cell_type": "code",
   "execution_count": 106,
   "metadata": {},
   "outputs": [
    {
     "name": "stderr",
     "output_type": "stream",
     "text": [
      "0it [00:00, ?it/s]\n"
     ]
    },
    {
     "ename": "IndexError",
     "evalue": "index 0 is out of bounds for axis 0 with size 0",
     "output_type": "error",
     "traceback": [
      "\u001b[0;31m---------------------------------------------------------------------------\u001b[0m",
      "\u001b[0;31mIndexError\u001b[0m                                Traceback (most recent call last)",
      "Cell \u001b[0;32mIn [106], line 1\u001b[0m\n\u001b[0;32m----> 1\u001b[0m [baseline_prediction(df_db, date, k\u001b[38;5;241m=\u001b[39m\u001b[38;5;241m1000\u001b[39m) \u001b[38;5;28;01mfor\u001b[39;00m date \u001b[38;5;129;01min\u001b[39;00m [x\u001b[38;5;241m.\u001b[39mstrftime(\u001b[38;5;124m\"\u001b[39m\u001b[38;5;124m%\u001b[39m\u001b[38;5;124mY-\u001b[39m\u001b[38;5;124m%\u001b[39m\u001b[38;5;124mm-\u001b[39m\u001b[38;5;132;01m%d\u001b[39;00m\u001b[38;5;124m\"\u001b[39m) \u001b[38;5;28;01mfor\u001b[39;00m x \u001b[38;5;129;01min\u001b[39;00m df_y_train[\u001b[38;5;124m'\u001b[39m\u001b[38;5;124mПериод\u001b[39m\u001b[38;5;124m'\u001b[39m]]]\n",
      "Cell \u001b[0;32mIn [106], line 1\u001b[0m, in \u001b[0;36m<listcomp>\u001b[0;34m(.0)\u001b[0m\n\u001b[0;32m----> 1\u001b[0m [\u001b[43mbaseline_prediction\u001b[49m\u001b[43m(\u001b[49m\u001b[43mdf_db\u001b[49m\u001b[43m,\u001b[49m\u001b[43m \u001b[49m\u001b[43mdate\u001b[49m\u001b[43m,\u001b[49m\u001b[43m \u001b[49m\u001b[43mk\u001b[49m\u001b[38;5;241;43m=\u001b[39;49m\u001b[38;5;241;43m1000\u001b[39;49m\u001b[43m)\u001b[49m \u001b[38;5;28;01mfor\u001b[39;00m date \u001b[38;5;129;01min\u001b[39;00m [x\u001b[38;5;241m.\u001b[39mstrftime(\u001b[38;5;124m\"\u001b[39m\u001b[38;5;124m%\u001b[39m\u001b[38;5;124mY-\u001b[39m\u001b[38;5;124m%\u001b[39m\u001b[38;5;124mm-\u001b[39m\u001b[38;5;132;01m%d\u001b[39;00m\u001b[38;5;124m\"\u001b[39m) \u001b[38;5;28;01mfor\u001b[39;00m x \u001b[38;5;129;01min\u001b[39;00m df_y_train[\u001b[38;5;124m'\u001b[39m\u001b[38;5;124mПериод\u001b[39m\u001b[38;5;124m'\u001b[39m]]]\n",
      "Cell \u001b[0;32mIn [105], line 77\u001b[0m, in \u001b[0;36mbaseline_prediction\u001b[0;34m(df, date, k)\u001b[0m\n\u001b[1;32m     75\u001b[0m \u001b[38;5;28;01mexcept\u001b[39;00m:\n\u001b[1;32m     76\u001b[0m     \u001b[38;5;28;01mreturn\u001b[39;00m \u001b[38;5;241m0\u001b[39m, \u001b[38;5;241m-\u001b[39m\u001b[38;5;241m1\u001b[39m\n\u001b[0;32m---> 77\u001b[0m \u001b[38;5;28;01mreturn\u001b[39;00m \u001b[43mipc_frame\u001b[49m\u001b[43m[\u001b[49m\u001b[38;5;124;43m'\u001b[39;49m\u001b[38;5;124;43mipc\u001b[39;49m\u001b[38;5;124;43m'\u001b[39;49m\u001b[43m]\u001b[49m\u001b[38;5;241m.\u001b[39mmean(), total_drops\n",
      "File \u001b[0;32m~/.conda/envs/py39/lib/python3.9/site-packages/pandas/core/frame.py:3474\u001b[0m, in \u001b[0;36mDataFrame.__getitem__\u001b[0;34m(self, key)\u001b[0m\n\u001b[1;32m   3472\u001b[0m         \u001b[39mif\u001b[39;00m \u001b[39misinstance\u001b[39m(\u001b[39mself\u001b[39m\u001b[39m.\u001b[39mcolumns, MultiIndex):\n\u001b[1;32m   3473\u001b[0m             \u001b[39mreturn\u001b[39;00m \u001b[39mself\u001b[39m\u001b[39m.\u001b[39m_getitem_multilevel(key)\n\u001b[0;32m-> 3474\u001b[0m         \u001b[39mreturn\u001b[39;00m \u001b[39mself\u001b[39;49m\u001b[39m.\u001b[39;49m_get_item_cache(key)\n\u001b[1;32m   3476\u001b[0m \u001b[39m# Do we have a slicer (on rows)?\u001b[39;00m\n\u001b[1;32m   3477\u001b[0m indexer \u001b[39m=\u001b[39m convert_to_index_sliceable(\u001b[39mself\u001b[39m, key)\n",
      "File \u001b[0;32m~/.conda/envs/py39/lib/python3.9/site-packages/pandas/core/frame.py:3932\u001b[0m, in \u001b[0;36mDataFrame._get_item_cache\u001b[0;34m(self, item)\u001b[0m\n\u001b[1;32m   3927\u001b[0m \u001b[39mif\u001b[39;00m res \u001b[39mis\u001b[39;00m \u001b[39mNone\u001b[39;00m:\n\u001b[1;32m   3928\u001b[0m     \u001b[39m# All places that call _get_item_cache have unique columns,\u001b[39;00m\n\u001b[1;32m   3929\u001b[0m     \u001b[39m#  pending resolution of GH#33047\u001b[39;00m\n\u001b[1;32m   3931\u001b[0m     loc \u001b[39m=\u001b[39m \u001b[39mself\u001b[39m\u001b[39m.\u001b[39mcolumns\u001b[39m.\u001b[39mget_loc(item)\n\u001b[0;32m-> 3932\u001b[0m     res \u001b[39m=\u001b[39m \u001b[39mself\u001b[39;49m\u001b[39m.\u001b[39;49m_ixs(loc, axis\u001b[39m=\u001b[39;49m\u001b[39m1\u001b[39;49m)\n\u001b[1;32m   3934\u001b[0m     cache[item] \u001b[39m=\u001b[39m res\n\u001b[1;32m   3936\u001b[0m     \u001b[39m# for a chain\u001b[39;00m\n",
      "File \u001b[0;32m~/.conda/envs/py39/lib/python3.9/site-packages/pandas/core/frame.py:3441\u001b[0m, in \u001b[0;36mDataFrame._ixs\u001b[0;34m(self, i, axis)\u001b[0m\n\u001b[1;32m   3437\u001b[0m \u001b[39m# icol\u001b[39;00m\n\u001b[1;32m   3438\u001b[0m \u001b[39melse\u001b[39;00m:\n\u001b[1;32m   3439\u001b[0m     label \u001b[39m=\u001b[39m \u001b[39mself\u001b[39m\u001b[39m.\u001b[39mcolumns[i]\n\u001b[0;32m-> 3441\u001b[0m     col_mgr \u001b[39m=\u001b[39m \u001b[39mself\u001b[39;49m\u001b[39m.\u001b[39;49m_mgr\u001b[39m.\u001b[39;49miget(i)\n\u001b[1;32m   3442\u001b[0m     result \u001b[39m=\u001b[39m \u001b[39mself\u001b[39m\u001b[39m.\u001b[39m_box_col_values(col_mgr, i)\n\u001b[1;32m   3444\u001b[0m     \u001b[39m# this is a cached value, mark it so\u001b[39;00m\n",
      "File \u001b[0;32m~/.conda/envs/py39/lib/python3.9/site-packages/pandas/core/internals/managers.py:1031\u001b[0m, in \u001b[0;36mBlockManager.iget\u001b[0;34m(self, i)\u001b[0m\n\u001b[1;32m   1027\u001b[0m \u001b[39m\"\"\"\u001b[39;00m\n\u001b[1;32m   1028\u001b[0m \u001b[39mReturn the data as a SingleBlockManager.\u001b[39;00m\n\u001b[1;32m   1029\u001b[0m \u001b[39m\"\"\"\u001b[39;00m\n\u001b[1;32m   1030\u001b[0m block \u001b[39m=\u001b[39m \u001b[39mself\u001b[39m\u001b[39m.\u001b[39mblocks[\u001b[39mself\u001b[39m\u001b[39m.\u001b[39mblknos[i]]\n\u001b[0;32m-> 1031\u001b[0m values \u001b[39m=\u001b[39m block\u001b[39m.\u001b[39;49miget(\u001b[39mself\u001b[39;49m\u001b[39m.\u001b[39;49mblklocs[i])\n\u001b[1;32m   1033\u001b[0m \u001b[39m# shortcut for select a single-dim from a 2-dim BM\u001b[39;00m\n\u001b[1;32m   1034\u001b[0m bp \u001b[39m=\u001b[39m BlockPlacement(\u001b[39mslice\u001b[39m(\u001b[39m0\u001b[39m, \u001b[39mlen\u001b[39m(values)))\n",
      "File \u001b[0;32m~/.conda/envs/py39/lib/python3.9/site-packages/pandas/core/internals/blocks.py:365\u001b[0m, in \u001b[0;36mBlock.iget\u001b[0;34m(self, i)\u001b[0m\n\u001b[1;32m    358\u001b[0m \u001b[39mdef\u001b[39;00m \u001b[39miget\u001b[39m(\u001b[39mself\u001b[39m, i: \u001b[39mint\u001b[39m \u001b[39m|\u001b[39m \u001b[39mtuple\u001b[39m[\u001b[39mint\u001b[39m, \u001b[39mint\u001b[39m] \u001b[39m|\u001b[39m \u001b[39mtuple\u001b[39m[\u001b[39mslice\u001b[39m, \u001b[39mint\u001b[39m]):\n\u001b[1;32m    359\u001b[0m     \u001b[39m# In the case where we have a tuple[slice, int], the slice will always\u001b[39;00m\n\u001b[1;32m    360\u001b[0m     \u001b[39m#  be slice(None)\u001b[39;00m\n\u001b[0;32m   (...)\u001b[0m\n\u001b[1;32m    363\u001b[0m     \u001b[39m# for \"Union[ndarray[Any, Any], ExtensionArray]\"; expected type\u001b[39;00m\n\u001b[1;32m    364\u001b[0m     \u001b[39m# \"Union[int, integer[Any]]\"\u001b[39;00m\n\u001b[0;32m--> 365\u001b[0m     \u001b[39mreturn\u001b[39;00m \u001b[39mself\u001b[39;49m\u001b[39m.\u001b[39;49mvalues[i]\n",
      "\u001b[0;31mIndexError\u001b[0m: index 0 is out of bounds for axis 0 with size 0"
     ]
    }
   ],
   "source": [
    "\n",
    "[baseline_prediction(df_db, date, k=1000) for date in [x.strftime(\"%Y-%m-%d\") for x in df_y_train['Период']]]"
   ]
  },
  {
   "cell_type": "code",
   "execution_count": null,
   "metadata": {},
   "outputs": [],
   "source": []
  }
 ],
 "metadata": {
  "kernelspec": {
   "display_name": "Python 3.9.13 ('py39')",
   "language": "python",
   "name": "python3"
  },
  "language_info": {
   "codemirror_mode": {
    "name": "ipython",
    "version": 3
   },
   "file_extension": ".py",
   "mimetype": "text/x-python",
   "name": "python",
   "nbconvert_exporter": "python",
   "pygments_lexer": "ipython3",
   "version": "3.9.13"
  },
  "orig_nbformat": 4,
  "vscode": {
   "interpreter": {
    "hash": "b1ff565e3597931078b1c740699c8d9fab8d699071f2fe19c95c8e8dcc80a919"
   }
  }
 },
 "nbformat": 4,
 "nbformat_minor": 2
}
